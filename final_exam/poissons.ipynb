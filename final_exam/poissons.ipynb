{
 "cells": [
  {
   "cell_type": "code",
   "execution_count": null,
   "id": "initial_id",
   "metadata": {
    "collapsed": true
   },
   "outputs": [],
   "source": [
    "def Poisson_2D(cmin, cmax, Nx, Ny, method='jacobi'):\n",
    "    \"\"\"\n",
    "    :param cmin: lower most grid pt\n",
    "    :param cmax: upper most grid pt\n",
    "    :param Nx: points in x\n",
    "    :param Ny: points in y\n",
    "    :param method: jacobi from linear solver\n",
    "    :return: mesh potential and time\n",
    "    \"\"\"\n",
    "    def real2grid(x, y, cmin, cmax, Nx, Ny):\n",
    "        grid_pt = np.zeros(2)\n",
    "        if x < cmin[0] or x > cmax[0] or y < cmin[1] or y > cmax[1]:\n",
    "            raise Exception(f'real2grid point {p} is outside boundary of box')\n",
    "        else:\n",
    "            delta = np.zeros(2)\n",
    "            delta[0] = (cmax[0] - cmin[0])/Nx\n",
    "            delta[1] = (cmax[1] - cmin[1])/Ny\n",
    "            grid_pt[0] = int((x - cmin[0]) / delta[0])\n",
    "            grid_pt[1] = int((y - cmin[1]) / delta[1])\n",
    "        return grid_pt[0], grid_pt[1]\n",
    "\n",
    "    def grid2real(i, j, cmin, d):\n",
    "        return cmin[0] + (i + 0.5) * d[0], cmin[1] + (j + 0.5) * d[1]\n",
    "\n",
    "    def constant_bc(cmin, cmax, Nx, Ny):\n",
    "        alpha = encode(0, 0, Ny)\n",
    "        V0 = 0.0\n",
    "        V1 = 5e-4\n",
    "        bc = {alpha:V0}\n",
    "\n",
    "        for i in range(Nx):\n",
    "            alpha = encode(i, 0, Ny)\n",
    "            bc.update({alpha:V0})\n",
    "            alpha = encode(i, Ny - 1, Ny)\n",
    "            bc.update({alpha:V0})\n",
    "\n",
    "        for j in range(Ny):\n",
    "            alpha = encode(0, j, Ny)\n",
    "            bc.update({alpha:V0})\n",
    "            alpha = encode(Nx - 1, j, Ny)\n",
    "            bc.update({alpha:V0})\n",
    "\n",
    "        bc = dict(sorted(bc.items()))\n",
    "        return bc\n",
    "\n",
    "    def right_hand_side(cmin, cmax, Nx, Ny, val):\n",
    "        N = Nx * Ny\n",
    "        b = np.zeros(N)\n",
    "        # single charge at 0, 0\n",
    "        # i, j = real2grid(0, 0, cmin, cmax, Nx, Ny)\n",
    "        # alpha = encode(i, j, Ny)\n",
    "        # b[alpha] = -val\n",
    "\n",
    "        # two opposite charges at -0.5,0 and 0.5,0\n",
    "        i, j = real2grid(-0.5, 0.0, cmin, cmax, Nx, Ny)\n",
    "        alpha = encode(i, j, Ny)\n",
    "        b[alpha] = -val\n",
    "\n",
    "        i, j = real2grid(0.5, 0.0, cmin, cmax, Nx, Ny)\n",
    "        alpha = encode(i, j, Ny)\n",
    "        b[alpha] = val\n",
    "\n",
    "        return b"
   ]
  }
 ],
 "metadata": {
  "kernelspec": {
   "display_name": "Python 3",
   "language": "python",
   "name": "python3"
  },
  "language_info": {
   "codemirror_mode": {
    "name": "ipython",
    "version": 2
   },
   "file_extension": ".py",
   "mimetype": "text/x-python",
   "name": "python",
   "nbconvert_exporter": "python",
   "pygments_lexer": "ipython2",
   "version": "2.7.6"
  }
 },
 "nbformat": 4,
 "nbformat_minor": 5
}
