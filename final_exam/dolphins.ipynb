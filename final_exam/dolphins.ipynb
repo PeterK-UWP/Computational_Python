{
 "cells": [
  {
   "cell_type": "markdown",
   "source": [
    "Using optimization appraoch: predict the configuration of dolphins with a group of 3, 4, 6, 8, and 10 dolphins"
   ],
   "metadata": {
    "collapsed": false
   },
   "id": "3b02ef38e68581cf"
  },
  {
   "cell_type": "code",
   "execution_count": null,
   "id": "initial_id",
   "metadata": {
    "collapsed": true
   },
   "outputs": [],
   "source": [
    "\n",
    "def optimize(group_size):\n",
    "    return \n",
    "\n",
    "group_size = [3, 4, 6, 8, 10]\n",
    "for i in group_size:\n",
    "    optimize(i)\n",
    "    "
   ]
  }
 ],
 "metadata": {
  "kernelspec": {
   "display_name": "Python 3",
   "language": "python",
   "name": "python3"
  },
  "language_info": {
   "codemirror_mode": {
    "name": "ipython",
    "version": 2
   },
   "file_extension": ".py",
   "mimetype": "text/x-python",
   "name": "python",
   "nbconvert_exporter": "python",
   "pygments_lexer": "ipython2",
   "version": "2.7.6"
  }
 },
 "nbformat": 4,
 "nbformat_minor": 5
}
