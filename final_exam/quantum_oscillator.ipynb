{
 "cells": [
  {
   "cell_type": "code",
   "execution_count": null,
   "id": "initial_id",
   "metadata": {
    "collapsed": true
   },
   "outputs": [],
   "source": [
    "def Quantum_1D(xmin, xmax, no_pts, potential, param=None):\n",
    "    domain = (xmax - xmin) / no_pts\n",
    "    d_squared = domain*domain\n",
    "    matrix = np.zeros((no_pts, no_pts))\n",
    "    i = 0\n",
    "    x = xmin + i*domain\n",
    "    if param == None:\n",
    "        matrix[i][i] = 2.0 / d_squared + potential(x)\n",
    "    else:\n",
    "        matrix[i][i] = 2.0/d_squared + potential(x, param)\n",
    "    matrix[i][i+1] = -1.0 / domain**2\n",
    "\n",
    "    for i in range(1, no_pts - 1):\n",
    "        x = xmin + i * domain\n",
    "        matrix[i][i-1] = -1.0 / d_squared\n",
    "        if param == None:\n",
    "            matrix[i][i] = 2.0 / d_squared + potential(x)\n",
    "        else:\n",
    "            matrix[i][i] = 2.0 / d_squared + potential(x, param)\n",
    "\n",
    "        matrix[i][i+1] = -1.0 / domain**2\n",
    "\n",
    "    i = no_pts - 1\n",
    "    x = xmin + i * domain\n",
    "    if param == None:\n",
    "        matrix[i][i] = 2.0 / d_squared + potential(x)\n",
    "    else:\n",
    "        matrix[i][i] = 2.0 / d_squared + potential(x, param)\n",
    "\n",
    "    matrix[i][i - 1] = -1.0 / d_squared\n",
    "\n",
    "    #eigen\n",
    "    value, vector = lin.eig(matrix)\n",
    "    indices = np.argsort(value)\n",
    "\n",
    "    energy = []\n",
    "    states = []\n",
    "    for index in indices:\n",
    "        try:\n",
    "            energy.append(value[index])\n",
    "        except NameError:\n",
    "            energy = [value[index]]\n",
    "\n",
    "        try:\n",
    "            states.append(vector[:, index] / np.sqrt(domain))\n",
    "        except NameError:\n",
    "            states = [vector[:, index] / np.sqrt(domain)]\n",
    "    return energy, states"
   ]
  }
 ],
 "metadata": {
  "kernelspec": {
   "display_name": "Python 3",
   "language": "python",
   "name": "python3"
  },
  "language_info": {
   "codemirror_mode": {
    "name": "ipython",
    "version": 2
   },
   "file_extension": ".py",
   "mimetype": "text/x-python",
   "name": "python",
   "nbconvert_exporter": "python",
   "pygments_lexer": "ipython2",
   "version": "2.7.6"
  }
 },
 "nbformat": 4,
 "nbformat_minor": 5
}
