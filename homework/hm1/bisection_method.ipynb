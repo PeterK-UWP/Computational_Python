{
 "cells": [
  {
   "cell_type": "markdown",
   "source": [
    "Use the bisectional method to write a recursive script similar to the sqrt one we did in class. \n"
   ],
   "metadata": {
    "collapsed": false
   },
   "id": "591889f8de822769"
  },
  {
   "cell_type": "code",
   "execution_count": 5,
   "id": "initial_id",
   "metadata": {
    "collapsed": true,
    "ExecuteTime": {
     "end_time": "2023-09-13T15:40:00.799096400Z",
     "start_time": "2023-09-13T15:40:00.664683300Z"
    }
   },
   "outputs": [
    {
     "name": "stdout",
     "output_type": "stream",
     "text": [
      "Error (0.1, 3.0) does not enclose root\n"
     ]
    }
   ],
   "source": [
    "import numpy as np\n",
    "# bisectional method using updating intervals\n",
    "epsilon = 1e-8\n",
    "\n",
    "\n",
    "def bisection(f, yy):\n",
    "    \"\"\"Recursive Method\"\"\"\n",
    "    def good_enough(x, y):\n",
    "        return np.fabs(x-y) <= epsilon\n",
    "    def improved(f, xL, xR):\n",
    "        \"\"\"Improved domain estimate\"\"\"\n",
    "        def opposite_side(f, x, y):\n",
    "            \"\"\"Checks if domain includes root\"\"\"\n",
    "            return f(x)*f(y) < 0.0\n",
    "        \n",
    "        if opposite_side(f, xL, xR):\n",
    "            xM = (xL + xR)/2.0\n",
    "            \n",
    "            if opposite_side(f, xL, xM) and not opposite_side(f, xM, xR):\n",
    "                return xL, xM\n",
    "            if opposite_side(f, xM, xR) and not opposite_side(f, xL, xM):\n",
    "                return xM, xR\n",
    "            if f(xM) == 0.0:\n",
    "                return xM, xM\n",
    "        else:\n",
    "            raise Exception(f\"Error ({xL}, {xR}) does not enclose root\")\n",
    "        return xR, xR\n",
    "    xL, xR = yy\n",
    "    \n",
    "    if good_enough(xL, xR):\n",
    "        return xL, xR\n",
    "    else:\n",
    "        try:\n",
    "            return bisection(f, improved(f, xL, xR))\n",
    "        except Exception as e:\n",
    "            print(e)\n",
    "if __name__ == \"__main__\":        \n",
    "    my_f = lambda x: (x - 2.0)*(x-2.0)*(x-2.0)\n",
    "    root = bisection(my_f, (1.5, 2.5))\n",
    "    #print(f\"Root is {root[0]}, confirming my_f({root[0]}) = {my_f(root[0])}\")\n",
    "    root = bisection(np.sin, (3.0, 4.0))\n",
    "    #print(f\"Root is {root[0]}, confirming sin({root[0]}) = {np.sin(root[0])}\")\n",
    "    try:\n",
    "        root = bisection(np.sin, (0.1, 3.0))\n",
    "        #print(f\"Root is {root[0]}, confirming sin({root[0]}) = {np.sin(root[0])}\")\n",
    "    except Exception as e:\n",
    "        print(e)\n",
    "    root = bisection(np.sin, (-3.0, 3.0))\n",
    "    #print(f\"Root is {root[0]}, confirming sin({root[0]}) = {np.sin(root[0])}\")\n",
    "\n",
    "\n"
   ]
  },
  {
   "cell_type": "markdown",
   "source": [
    "Define a script to calculate the nth Fibonacci term\n",
    "Then write another script to write the first 'n' entries in the sequence"
   ],
   "metadata": {
    "collapsed": false
   },
   "id": "499d2d199abc24e4"
  },
  {
   "cell_type": "code",
   "execution_count": 6,
   "outputs": [
    {
     "name": "stdout",
     "output_type": "stream",
     "text": [
      "1 1\n",
      "1 1 None [1, 1]\n"
     ]
    }
   ],
   "source": [
    "import numpy as np\n",
    "def Fib(n):\n",
    "    \"\"\"prints F_n\"\"\"\n",
    "    if n == 0:\n",
    "        return 0\n",
    "    elif n == 1:\n",
    "        return 1\n",
    "    else:\n",
    "        return Fib(n-1) + Fib(n-2)\n",
    "    \n",
    "def print_Fib(m):\n",
    "    \"\"\"prints the sequence\"\"\"\n",
    "    if m > 0:\n",
    "        print_Fib(m - 1)\n",
    "        print(f\"{Fib(m)} \", end=\"\")  # end=\"\" makes the code continue on the same line\n",
    "    \n",
    "    \n",
    "    \n",
    "# my code \\/\\/\\/\n",
    "def fibonacci(n):\n",
    "    return 0 if n==0 else 1 if n==1 else fibonacci(n-1) + fibonacci(n-2)\n",
    "\n",
    "def recure_fib(n):\n",
    "    terms = []\n",
    "    for i in np.linspace(n-n+1, n, n):\n",
    "        terms.append(fibonacci(i))\n",
    "    return terms\n",
    "\n",
    "if __name__ == \"__main__\":\n",
    "    number = eval(input(\"enter a number:\"))\n",
    "    print(Fib(number), fibonacci(number))\n",
    "    \n",
    "    print(print_Fib(number), recure_fib(number))\n",
    "    "
   ],
   "metadata": {
    "collapsed": false,
    "ExecuteTime": {
     "end_time": "2023-09-13T15:40:02.368451600Z",
     "start_time": "2023-09-13T15:40:00.747786700Z"
    }
   },
   "id": "1386c73c468235dd"
  },
  {
   "cell_type": "markdown",
   "source": [
    "Modify the sqrt file from class to produce a recursive function that outputs an estimate with n calls to the function"
   ],
   "metadata": {
    "collapsed": false
   },
   "id": "302fc2ff4edb045a"
  },
  {
   "cell_type": "code",
   "execution_count": null,
   "outputs": [],
   "source": [
    "# square root modification\n",
    "import numpy as np\n",
    "epsilon = 1e-8\n",
    "\n",
    "\n",
    "def my_sqrt(x):\n",
    "    def sqrt_iter(y, x, depth):\n",
    "        improved = lambda y, x: (y + y/x)/2.0\n",
    "        good_enough = lambda y, x: np.abs(y*y - x) < epsilon\n",
    "        \n",
    "        if good_enough(y, x):\n",
    "            return y, depth\n",
    "        else: \n",
    "            return sqrt_iter(improved(y, x), x, depth + 1)\n",
    "    return sqrt_iter(10.0, x, 1)\n",
    "\n",
    "if __name__ == \"__main__\":\n",
    "    x = float(input(\"Enter the number:\"))\n",
    "    root, depth = my_sqrt(x)\n",
    "    print(f\"\\u221A {x} = {root} in {depth} calls\")"
   ],
   "metadata": {
    "collapsed": false,
    "is_executing": true,
    "ExecuteTime": {
     "start_time": "2023-09-13T15:40:02.278308200Z"
    }
   },
   "id": "4912a43413872dac"
  }
 ],
 "metadata": {
  "kernelspec": {
   "display_name": "Python 3",
   "language": "python",
   "name": "python3"
  },
  "language_info": {
   "codemirror_mode": {
    "name": "ipython",
    "version": 2
   },
   "file_extension": ".py",
   "mimetype": "text/x-python",
   "name": "python",
   "nbconvert_exporter": "python",
   "pygments_lexer": "ipython2",
   "version": "2.7.6"
  }
 },
 "nbformat": 4,
 "nbformat_minor": 5
}
