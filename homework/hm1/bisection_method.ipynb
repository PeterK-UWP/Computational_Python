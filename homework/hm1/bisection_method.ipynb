{
 "cells": [
  {
   "cell_type": "code",
   "execution_count": null,
   "id": "initial_id",
   "metadata": {
    "collapsed": true,
    "is_executing": true,
    "ExecuteTime": {
     "start_time": "2023-09-11T15:24:14.719854700Z"
    }
   },
   "outputs": [
    {
     "name": "stdout",
     "output_type": "stream",
     "text": [
      "Error (0.1, 3.0) does not enclose root\n"
     ]
    }
   ],
   "source": [
    "import numpy as np\n",
    "# bisectional method using updating intervals\n",
    "epsilon = 1e-8\n",
    "\n",
    "\n",
    "def bisection(f, yy):\n",
    "    \"\"\"Recursive Method\"\"\"\n",
    "    def good_enough(x, y):\n",
    "        return np.fabs(x-y) <= epsilon\n",
    "    def improved(f, xL, xR):\n",
    "        \"\"\"Improved domain estimate\"\"\"\n",
    "        def opposite_side(f, x, y):\n",
    "            \"\"\"Checks if domain includes root\"\"\"\n",
    "            return f(x)*f(y) < 0.0\n",
    "        \n",
    "        if opposite_side(f, xL, xR):\n",
    "            xM = (xL + xR)/2.0\n",
    "            \n",
    "            if opposite_side(f, xL, xM) and not opposite_side(f, xM, xR):\n",
    "                return xL, xM\n",
    "            if opposite_side(f, xM, xR) and not opposite_side(f, xL, xM):\n",
    "                return xM, xR\n",
    "            if f(xM) == 0.0:\n",
    "                return xM, xM\n",
    "        else:\n",
    "            raise Exception(f\"Error ({xL}, {xR}) does not enclose root\")\n",
    "        return xR, xR\n",
    "    xL, xR = yy\n",
    "    \n",
    "    if good_enough(xL, xR):\n",
    "        return xL, xR\n",
    "    else:\n",
    "        try:\n",
    "            return bisection(f, improved(f, xL, xR))\n",
    "        except Exception as e:\n",
    "            print(e)\n",
    "            \n",
    "my_f = lambda x: (x - 2.0)*(x-2.0)*(x-2.0)\n",
    "root = bisection(my_f, (1.5, 2.5))\n",
    "#print(f\"Root is {root[0]}, confirming my_f({root[0]}) = {my_f(root[0])}\")\n",
    "root = bisection(np.sin, (3.0, 4.0))\n",
    "#print(f\"Root is {root[0]}, confirming sin({root[0]}) = {np.sin(root[0])}\")\n",
    "try:\n",
    "    root = bisection(np.sin, (0.1, 3.0))\n",
    "    #print(f\"Root is {root[0]}, confirming sin({root[0]}) = {np.sin(root[0])}\")\n",
    "except Exception as e:\n",
    "    print(e)\n",
    "root = bisection(np.sin, (-3.0, 3.0))\n",
    "#print(f\"Root is {root[0]}, confirming sin({root[0]}) = {np.sin(root[0])}\")\n",
    "\n",
    "\n",
    "# square root modification\n",
    "\n",
    "def my_sqrt(x):\n",
    "    def sqrt_iter(y, x, depth):\n",
    "        improved = lambda y, x: (y + y/x)/2.0\n",
    "        good_enough = lambda y, x: np.fabs(y*y - x) < epsilon\n",
    "        \n",
    "        if good_enough(x, y):\n",
    "            return y, depth\n",
    "        else: \n",
    "            return sqrt_iter(improved(y, x), x, depth + 1)\n",
    "    return sqrt_iter(10.0, x, 1)\n",
    "\n",
    "root, depth = my_sqrt(float(input(\"Enter the number:\")))\n",
    "print(f\"\\u221A {x} = {root} in {depth} calls\")"
   ]
  }
 ],
 "metadata": {
  "kernelspec": {
   "display_name": "Python 3",
   "language": "python",
   "name": "python3"
  },
  "language_info": {
   "codemirror_mode": {
    "name": "ipython",
    "version": 2
   },
   "file_extension": ".py",
   "mimetype": "text/x-python",
   "name": "python",
   "nbconvert_exporter": "python",
   "pygments_lexer": "ipython2",
   "version": "2.7.6"
  }
 },
 "nbformat": 4,
 "nbformat_minor": 5
}
