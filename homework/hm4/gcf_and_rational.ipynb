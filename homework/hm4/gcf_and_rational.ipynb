{
 "cells": [
  {
   "cell_type": "code",
   "execution_count": 12,
   "outputs": [
    {
     "name": "stdout",
     "output_type": "stream",
     "text": [
      "3\n"
     ]
    }
   ],
   "source": [
    "import numpy as np\n",
    "\n",
    "def gcd(a, b, mod=None):\n",
    "    return a if b == 0 else gcd(b, a % b)\n",
    "  #      return a\n",
    "   # else:\n",
    "    #    return gcd(b, a % b)\n",
    "\n",
    "class rational:\n",
    "    def __name__(self):\n",
    "        self.name = rational\n",
    "        return \"rational\"\n",
    "    \n",
    "    def __init__(self, x, y, rep=None):\n",
    "        \"\"\"constructor\"\"\"\n",
    "        if rep == None:\n",
    "            self.x = x\n",
    "            self.y = y\n",
    "        elif rep == \"frac\":\n",
    "            self.x = x \n",
    "            self.y = y\n",
    "        elif rep == \"reciprocal\":\n",
    "            self.x = y  \n",
    "            self.y = x\n",
    "    def numerator(self, x=None):\n",
    "        if x == None:\n",
    "            return self.x\n",
    "        else:\n",
    "            self.x = x\n",
    "            return self.x\n",
    "        \n",
    "    def denominator(self, y=None):\n",
    "        if y == 0:\n",
    "            raise ZeroDivisionError(\"Bruh, you know and I know you cannot divide by zero m8\")\n",
    "        elif y == None:\n",
    "            return self.y\n",
    "        else: \n",
    "            self.y = y\n",
    "            return self.y\n",
    "    \n",
    "    def reduced_form(self, x, y, rep=None):\n",
    "        if rep==None or rep == \"frac\":\n",
    "            print(\"assuming x/y representation\")\n",
    "            gcd(x, y, mod=None)\n",
    "            return x/y\n",
    "        \n",
    "        \n",
    "        \n",
    "        \n",
    "    \n",
    "    \n",
    "if __name__ == \"__main__\":\n",
    "    print(gcd(21, 3))\n",
    "    "
   ],
   "metadata": {
    "collapsed": false,
    "ExecuteTime": {
     "end_time": "2023-09-12T17:35:36.260374100Z",
     "start_time": "2023-09-12T17:35:36.235318600Z"
    }
   },
   "id": "initial_id"
  }
 ],
 "metadata": {
  "kernelspec": {
   "display_name": "Python 3",
   "language": "python",
   "name": "python3"
  },
  "language_info": {
   "codemirror_mode": {
    "name": "ipython",
    "version": 2
   },
   "file_extension": ".py",
   "mimetype": "text/x-python",
   "name": "python",
   "nbconvert_exporter": "python",
   "pygments_lexer": "ipython2",
   "version": "2.7.6"
  }
 },
 "nbformat": 4,
 "nbformat_minor": 5
}
