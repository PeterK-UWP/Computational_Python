{
 "cells": [
  {
   "cell_type": "code",
   "execution_count": 13,
   "outputs": [
    {
     "name": "stdout",
     "output_type": "stream",
     "text": [
      "3 3\n"
     ]
    }
   ],
   "source": [
    "import numpy as np\n",
    "\n",
    "def gcd(a, b, mod=None):\n",
    "    return a if b == 0 else gcd(b, a % b)\n",
    "  #      return a\n",
    "   # else:\n",
    "    #    return gcd(b, a % b)\n",
    "\n",
    "\n",
    "def gcd_it(a, b):\n",
    "    while b != 0:\n",
    "        t = b\n",
    "        b = a%b\n",
    "        a = t\n",
    "    return a\n",
    "\n",
    "\n",
    "class rational:\n",
    "    def __name__(self):\n",
    "        self.name = rational\n",
    "        return \"rational\"\n",
    "    \n",
    "    def __init__(self, n, d=None):  # n - numerator, d - denominator\n",
    "        \"\"\"constructor\"\"\"\n",
    "        if d == None:\n",
    "            self.numerator = int(n)\n",
    "            self.denominator = 1\n",
    "        else:\n",
    "            g = gcd(n, d)\n",
    "            self.numerator = int(n)//g\n",
    "            self.denominator = int(d)//g\n",
    "    \n",
    "    \n",
    "    def __str__(self, mode=None):\n",
    "        if self.denominator == 1:\n",
    "            return '%d' % self.numerator\n",
    "        elif self.numerator == 0:\n",
    "            return '0'\n",
    "        else:\n",
    "            if mode == None:\n",
    "                return '%d/%d' % (self.numerator, self.denominator)\n",
    "            elif mode == 'mixed':\n",
    "                tmp = self.numerator//self.denominator\n",
    "                frac = self-tmp\n",
    "                return '%d' % (tmp) + '' + '[%d/%d]' % (frac.numerator, frac.denominator)\n",
    "            else:\n",
    "                return '%d/%d' % (self.numerator, self.denominator)\n",
    "                \n",
    "            \n",
    "     \n",
    "\n",
    "    def addition(self):\n",
    "        return \n",
    "    def subtract(self):\n",
    "        return\n",
    "    def multiply(self):\n",
    "        return\n",
    "    def divide(self):\n",
    "        return\n",
    "        \n",
    "        \n",
    "        \n",
    "    \n",
    "    \n",
    "if __name__ == \"__main__\":\n",
    "    print(gcd(21, 3), gcd_it(21, 3))\n",
    "    "
   ],
   "metadata": {
    "collapsed": false,
    "ExecuteTime": {
     "end_time": "2023-09-13T17:23:30.714778400Z",
     "start_time": "2023-09-13T17:23:30.681221900Z"
    }
   },
   "id": "initial_id"
  }
 ],
 "metadata": {
  "kernelspec": {
   "display_name": "Python 3",
   "language": "python",
   "name": "python3"
  },
  "language_info": {
   "codemirror_mode": {
    "name": "ipython",
    "version": 2
   },
   "file_extension": ".py",
   "mimetype": "text/x-python",
   "name": "python",
   "nbconvert_exporter": "python",
   "pygments_lexer": "ipython2",
   "version": "2.7.6"
  }
 },
 "nbformat": 4,
 "nbformat_minor": 5
}
