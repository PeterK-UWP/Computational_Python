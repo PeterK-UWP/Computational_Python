{
 "cells": [
  {
   "cell_type": "code",
   "execution_count": 35,
   "id": "initial_id",
   "metadata": {
    "collapsed": true,
    "ExecuteTime": {
     "end_time": "2023-09-12T17:14:04.290234900Z",
     "start_time": "2023-09-12T17:14:04.266258Z"
    }
   },
   "outputs": [
    {
     "name": "stdout",
     "output_type": "stream",
     "text": [
      "[0.0, 1.0, 2.0, 3.0, 4.0, 5.0, 6.0, 7.0, 8.0, 9.0, 10.0] <class 'list'>\n",
      "10 <class 'int'>\n",
      "0.0 <class 'numpy.float64'>\n",
      "1.0 <class 'numpy.float64'>\n",
      "2.0 <class 'numpy.float64'>\n",
      "3.0 <class 'numpy.float64'>\n",
      "4.0 <class 'numpy.float64'>\n",
      "5.0 <class 'numpy.float64'>\n",
      "6.0 <class 'numpy.float64'>\n",
      "7.0 <class 'numpy.float64'>\n",
      "8.0 <class 'numpy.float64'>\n",
      "9.0 <class 'numpy.float64'>\n",
      "10.0 <class 'numpy.float64'>\n",
      "[0, -1, -2, -3, -4, -5, -6, -7, -8, -9]\n",
      "<class 'list'>\n",
      "<class 'list'>\n",
      "<class 'list'>\n",
      "<class 'list'>\n",
      "<class 'list'>\n",
      "<class 'list'>\n",
      "<class 'list'>\n",
      "<class 'list'>\n",
      "<class 'list'>\n",
      "<class 'list'>\n"
     ]
    }
   ],
   "source": [
    "# min_max dictionary\n",
    "# make a lambda function and input the range of x values to get the corresponding y values in a tabulated form\n",
    "import numpy as np\n",
    "\n",
    "\n",
    "def tabulate_dictionary(func, x_min, x_max, del_x):\n",
    "    x_array = []\n",
    "    y_array = []\n",
    "    tabulation = []\n",
    "    for x in np.linspace(x_min, x_max, del_x + 1):\n",
    "        x_array.append(x)\n",
    "        y_array.append(func(x))\n",
    "        tab = [f\"{x} : {func(x)} = {func}\"]\n",
    "        tabulation.append(tab)\n",
    "    return {\"x_val\": x_array, \"y_val\": y_array, \"tabulation\": tabulation, \"function\": func}\n",
    "\n",
    "\n",
    "# Lagrangian\n",
    "#import numpy as np\n",
    "\"\"\"for k plus 1 points a Lagrangain = sum from j = 0 to k of y sub j times L sub j of x where L sub j of x is equal to the multiple of m less than or equal to k and m greater than or equal to 0 where m is not equal to j of the quantity x - x sub m all over x sub j minus x sub m\"\"\"\n",
    "\n",
    "def legrangian_interpolation(dictionary, x_input):\n",
    "    print(dictionary[\"x_val\"], type(dictionary[\"x_val\"])) #prints x values array and list\n",
    "    k_index = len(dictionary[\"x_val\"]) - 1  # length of list\n",
    "    print(k_index, type(k_index))\n",
    "    m_index = 0\n",
    "    leg = []\n",
    "    polynomials = []\n",
    "    for j in dictionary[\"x_val\"]:\n",
    "        print(j, type(j))  # floats from 0 to 10\n",
    "        if m_index < k_index and m_index != j:\n",
    "            mult_index = len(leg)\n",
    "            leg.append(int((x_input - dictionary[\"x_val\"][m_index])/(j - dictionary[\"x_val\"][m_index])))\n",
    "            m_index += 1\n",
    "        else: continue\n",
    "    print(leg)\n",
    "    for i in leg: \n",
    "        y_val = dictionary[\"y_val\"]\n",
    "        print(type(y_val))\n",
    "        polynomials.append(y_val[i] * leg[i])\n",
    "    return polynomials \n",
    "\n",
    "if __name__ == \"__main__\":\n",
    "    # print(np.linspace(0, 10, 11))\n",
    "    my_func = {\"square\": lambda x: x**2, \"sin\": lambda x: np.sin(x)}\n",
    "    #print(tabulate_dictionary(my_func[\"square\"], 0, 10, 10))\n",
    "    \n",
    "    legrangian_interpolation(tabulate_dictionary(my_func[\"square\"], 0, 10, 10), 0)\n",
    "    "
   ]
  },
  {
   "cell_type": "code",
   "execution_count": null,
   "outputs": [],
   "source": [
    "\n"
   ],
   "metadata": {
    "collapsed": false
   },
   "id": "5ffa7be196333df3"
  }
 ],
 "metadata": {
  "kernelspec": {
   "display_name": "Python 3",
   "language": "python",
   "name": "python3"
  },
  "language_info": {
   "codemirror_mode": {
    "name": "ipython",
    "version": 2
   },
   "file_extension": ".py",
   "mimetype": "text/x-python",
   "name": "python",
   "nbconvert_exporter": "python",
   "pygments_lexer": "ipython2",
   "version": "2.7.6"
  }
 },
 "nbformat": 4,
 "nbformat_minor": 5
}
