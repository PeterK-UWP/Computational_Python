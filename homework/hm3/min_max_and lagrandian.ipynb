{
 "cells": [
  {
   "cell_type": "markdown",
   "source": [
    "Tabulate a dictionary (x0, y0), (x1, y1), ...\n"
   ],
   "metadata": {
    "collapsed": false
   },
   "id": "b191e05d6e737475"
  },
  {
   "cell_type": "code",
   "execution_count": 36,
   "outputs": [
    {
     "name": "stdout",
     "output_type": "stream",
     "text": [
      "0 0.0 0.0\n",
      "0.2 0.19866933079506122 0.19866933079506122\n",
      "0.4 0.3894183423086505 0.3894183423086505\n",
      "0.6000000000000001 0.5646424733950355 0.5646424733950355\n",
      "0.8 0.7173560908995228 0.7173560908995228\n",
      "1.0 0.8414709848078965 0.8414709848078965\n",
      "1.2 0.9320390859672263 0.9320390859672263\n",
      "1.4 0.9854497299884601 0.9854497299884601\n",
      "1.5999999999999999 0.9995736030415052 0.9995736030415052\n",
      "1.7999999999999998 0.9738476308781953 0.9738476308781953\n",
      "1.9999999999999998 0.9092974268256818 0.9092974268256818\n",
      "2.1999999999999997 0.8084964038195903 0.8084964038195903\n",
      "2.4 0.675463180551151 0.675463180551151\n",
      "2.6 0.5155013718214642 0.5155013718214642\n",
      "2.8000000000000003 0.33498815015590466 0.33498815015590466\n",
      "3.0000000000000004 0.14112000805986677 0.14112000805986677\n"
     ]
    }
   ],
   "source": [
    "import numpy as np\n",
    "\n",
    "def tabulate(f, x0, xf, delta):\n",
    "    \"\"\"this code utilizes the update function to update the dictionary\"\"\"\n",
    "    x = x0\n",
    "    y = f(x)\n",
    "    tab = {x:y}\n",
    "    x += delta\n",
    "    \n",
    "    while x <= xf:\n",
    "        y = f(x)\n",
    "        tab.update({x:y})\n",
    "        x += delta\n",
    "    return tab\n",
    "\n",
    "if __name__ == \"__main__\":\n",
    "    sin_func = tabulate(np.sin, 0, np.pi, 0.2)\n",
    "    for x in sin_func.keys():  # this looks at the x values in the dictionary just made above in the tabulation\n",
    "        print(x, sin_func[x], np.sin(x))"
   ],
   "metadata": {
    "collapsed": false,
    "ExecuteTime": {
     "end_time": "2023-09-13T16:48:46.777734700Z",
     "start_time": "2023-09-13T16:48:46.761563300Z"
    }
   },
   "id": "686c199f5f1c022f"
  },
  {
   "cell_type": "markdown",
   "source": [
    "My attempt... outputs x array and y array for easy graphing"
   ],
   "metadata": {
    "collapsed": false
   },
   "id": "25f1497a6d81ba41"
  },
  {
   "cell_type": "markdown",
   "source": [],
   "metadata": {
    "collapsed": false
   },
   "id": "b14817d36248d00e"
  },
  {
   "cell_type": "code",
   "execution_count": 37,
   "id": "initial_id",
   "metadata": {
    "collapsed": true,
    "ExecuteTime": {
     "end_time": "2023-09-13T16:49:48.536560400Z",
     "start_time": "2023-09-13T16:49:48.489391200Z"
    }
   },
   "outputs": [
    {
     "name": "stdout",
     "output_type": "stream",
     "text": [
      "{'x_val': [0.0, 1.0, 2.0, 3.0, 4.0, 5.0, 6.0, 7.0, 8.0, 9.0, 10.0], 'y_val': [0.0, 1.0, 4.0, 9.0, 16.0, 25.0, 36.0, 49.0, 64.0, 81.0, 100.0], 'tabulation': [['0.0 : 0.0 = <function <lambda> at 0x00000212E4074790>'], ['1.0 : 1.0 = <function <lambda> at 0x00000212E4074790>'], ['2.0 : 4.0 = <function <lambda> at 0x00000212E4074790>'], ['3.0 : 9.0 = <function <lambda> at 0x00000212E4074790>'], ['4.0 : 16.0 = <function <lambda> at 0x00000212E4074790>'], ['5.0 : 25.0 = <function <lambda> at 0x00000212E4074790>'], ['6.0 : 36.0 = <function <lambda> at 0x00000212E4074790>'], ['7.0 : 49.0 = <function <lambda> at 0x00000212E4074790>'], ['8.0 : 64.0 = <function <lambda> at 0x00000212E4074790>'], ['9.0 : 81.0 = <function <lambda> at 0x00000212E4074790>'], ['10.0 : 100.0 = <function <lambda> at 0x00000212E4074790>']], 'function': <function <lambda> at 0x00000212E4074790>}\n"
     ]
    }
   ],
   "source": [
    "# min_max dictionary\n",
    "# make a lambda function and input the range of x values to get the corresponding y values in a tabulated form\n",
    "import numpy as np\n",
    "\n",
    "\n",
    "def tabulate_dictionary(func, x_min, x_max, del_x):\n",
    "    x_array = []\n",
    "    y_array = []\n",
    "    tabulation = []\n",
    "    for x in np.linspace(x_min, x_max, del_x + 1):\n",
    "        x_array.append(x)\n",
    "        y_array.append(func(x))\n",
    "        tab = [f\"{x} : {func(x)} = {func}\"]\n",
    "        tabulation.append(tab)\n",
    "    return {\"x_val\": x_array, \"y_val\": y_array, \"tabulation\": tabulation, \"function\": func}\n",
    "\n",
    "\n",
    "# Lagrangian\n",
    "#import numpy as np\n",
    "\"\"\"for k plus 1 points a Lagrangain = sum from j = 0 to k of y sub j times L sub j of x where L sub j of x is equal to the multiple of m less than or equal to k and m greater than or equal to 0 where m is not equal to j of the quantity x - x sub m all over x sub j minus x sub m\"\"\"\n",
    "\n",
    "def legrangian_interpolation(dictionary, x_input):\n",
    "    print(dictionary[\"x_val\"], type(dictionary[\"x_val\"])) #prints x values array and list\n",
    "    k_index = len(dictionary[\"x_val\"]) - 1  # length of list\n",
    "    print(k_index, type(k_index))\n",
    "    m_index = 0\n",
    "    leg = []\n",
    "    polynomials = []\n",
    "    for j in dictionary[\"x_val\"]:\n",
    "        print(j, type(j))  # floats from 0 to 10\n",
    "        if m_index < k_index and m_index != j:\n",
    "            mult_index = len(leg)\n",
    "            leg.append(int((x_input - dictionary[\"x_val\"][m_index])/(j - dictionary[\"x_val\"][m_index])))\n",
    "            m_index += 1\n",
    "        else: continue\n",
    "    print(leg)\n",
    "    for i in leg: \n",
    "        y_val = dictionary[\"y_val\"]\n",
    "        print(type(y_val))\n",
    "        polynomials.append(y_val[i] * leg[i])\n",
    "    return polynomials \n",
    "\n",
    "if __name__ == \"__main__\":\n",
    "    # print(np.linspace(0, 10, 11))\n",
    "    my_func = {\"square\": lambda x: x**2, \"sin\": lambda x: np.sin(x)}\n",
    "    print(tabulate_dictionary(my_func[\"square\"], 0, 10, 10))\n",
    "    \n",
    "    #legrangian_interpolation(tabulate_dictionary(my_func[\"square\"], 0, 10, 10), 0)\n",
    "    "
   ]
  },
  {
   "cell_type": "markdown",
   "source": [
    "Use an interpolation to approximate unknown data"
   ],
   "metadata": {
    "collapsed": false
   },
   "id": "92b9c03c1ba7df24"
  },
  {
   "cell_type": "code",
   "execution_count": 38,
   "outputs": [
    {
     "name": "stdout",
     "output_type": "stream",
     "text": [
      "15 120\n"
     ]
    }
   ],
   "source": [
    "import numpy as np\n",
    "import operator\n",
    "def general_interpolation(term, operation, start, stop, step=1, null=0):\n",
    "    def iteration(term, operation, index, start, step):\n",
    "        if index - step < start:\n",
    "            return term(index)\n",
    "        else:\n",
    "            return operation(term(index), iteration(term, operation, index - step, start, step))\n",
    "    if stop < start:\n",
    "        return null\n",
    "    if stop == start:\n",
    "        return term(start)\n",
    "    else:\n",
    "        return iteration(term, operation, stop, start, step)\n",
    "    \n",
    "if __name__ == \"__main__\":\n",
    "    S = lambda term, start, stop: general_interpolation(term, operator.add, start, stop, null=0)\n",
    "    P = lambda term, start, stop: general_interpolation(term, operator.mul, start, stop, null=0)\n",
    "    term = lambda i: i\n",
    "    print(S(term, 1, 5), P(term, 1, 5))"
   ],
   "metadata": {
    "collapsed": false,
    "ExecuteTime": {
     "end_time": "2023-09-13T17:12:00.105328100Z",
     "start_time": "2023-09-13T17:12:00.072741500Z"
    }
   },
   "id": "5ffa7be196333df3"
  },
  {
   "cell_type": "code",
   "execution_count": 40,
   "outputs": [
    {
     "name": "stdout",
     "output_type": "stream",
     "text": [
      "0 0.03686987270401379 0.04997916927067833\n",
      "0.1 0.1550564020979208 0.14943813247359924\n",
      "0.2 0.24178569001786387 0.24740395925452294\n",
      "0.30000000000000004 0.3560071013094481 0.3428978074554514\n",
      "0.4 0.3169818998414611 0.43496553411123023\n",
      "0.5 -0.7751326211404557 0.5226872289306592\n"
     ]
    }
   ],
   "source": [
    "def lagrangian_interpolation(tab, x):\n",
    "    xs = list(tab.keys())\n",
    "    N = len(xs)\n",
    "    def lagrangian_term(tab, x, j):\n",
    "        term = lambda m: (x - xs[m]) / (xs[j] - xs[m])\n",
    "        return P(term, 0, j-1) * P(term, j+1, N-1)\n",
    "    term = lambda j: tab[xs[j]] * lagrangian_term(tab, x, j)\n",
    "    return S(term, 0, N-1)\n",
    "\n",
    "if __name__ == \"__main__\":\n",
    "    sin_func = tabulate(np.sin, 0, np.pi/6, 0.1)\n",
    "    for x in sin_func.keys():\n",
    "        print(x, lagrangian_interpolation(sin_func, x + 0.05), np.sin(x+0.05))"
   ],
   "metadata": {
    "collapsed": false,
    "ExecuteTime": {
     "end_time": "2023-09-13T17:20:16.586838400Z",
     "start_time": "2023-09-13T17:20:16.539722500Z"
    }
   },
   "id": "5c731a610ce996cd"
  }
 ],
 "metadata": {
  "kernelspec": {
   "display_name": "Python 3",
   "language": "python",
   "name": "python3"
  },
  "language_info": {
   "codemirror_mode": {
    "name": "ipython",
    "version": 2
   },
   "file_extension": ".py",
   "mimetype": "text/x-python",
   "name": "python",
   "nbconvert_exporter": "python",
   "pygments_lexer": "ipython2",
   "version": "2.7.6"
  }
 },
 "nbformat": 4,
 "nbformat_minor": 5
}
