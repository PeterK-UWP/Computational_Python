{
 "cells": [
  {
   "cell_type": "markdown",
   "source": [
    "Integrate 3 cases using 3 functions using riemann sums"
   ],
   "metadata": {
    "collapsed": false
   },
   "id": "76a8565a1b0e652a"
  },
  {
   "cell_type": "code",
   "execution_count": 11,
   "id": "initial_id",
   "metadata": {
    "collapsed": true,
    "ExecuteTime": {
     "end_time": "2023-09-13T16:27:37.649726300Z",
     "start_time": "2023-09-13T16:27:37.414024100Z"
    }
   },
   "outputs": [
    {
     "name": "stdout",
     "output_type": "stream",
     "text": [
      "range(1, 10)\n"
     ]
    },
    {
     "ename": "TypeError",
     "evalue": "unsupported operand type(s) for +: 'float' and 'NoneType'",
     "output_type": "error",
     "traceback": [
      "\u001B[1;31m---------------------------------------------------------------------------\u001B[0m",
      "\u001B[1;31mTypeError\u001B[0m                                 Traceback (most recent call last)",
      "Cell \u001B[1;32mIn[11], line 42\u001B[0m\n\u001B[0;32m     37\u001B[0m \u001B[38;5;28;01mif\u001B[39;00m \u001B[38;5;18m__name__\u001B[39m \u001B[38;5;241m==\u001B[39m\u001B[38;5;124m\"\u001B[39m\u001B[38;5;124m__main__\u001B[39m\u001B[38;5;124m\"\u001B[39m:\n\u001B[0;32m     38\u001B[0m     \u001B[38;5;66;03m#print(len(range(0, 10))) \u001B[39;00m\n\u001B[0;32m     39\u001B[0m     \u001B[38;5;66;03m#print(np.linspace(0, 10, 10))\u001B[39;00m\n\u001B[0;32m     40\u001B[0m     \u001B[38;5;66;03m#print(len(np.linspace(0, 10, 10)))\u001B[39;00m\n\u001B[0;32m     41\u001B[0m     f \u001B[38;5;241m=\u001B[39m \u001B[38;5;28;01mlambda\u001B[39;00m x: x\u001B[38;5;241m*\u001B[39m\u001B[38;5;241m*\u001B[39m\u001B[38;5;241m2\u001B[39m\n\u001B[1;32m---> 42\u001B[0m     \u001B[38;5;28mprint\u001B[39m(\u001B[43mbox_approx\u001B[49m\u001B[43m(\u001B[49m\u001B[43mf\u001B[49m\u001B[43m,\u001B[49m\u001B[43m \u001B[49m\u001B[38;5;241;43m-\u001B[39;49m\u001B[38;5;241;43m1.0\u001B[39;49m\u001B[43m,\u001B[49m\u001B[43m \u001B[49m\u001B[38;5;241;43m1.0\u001B[39;49m\u001B[43m,\u001B[49m\u001B[43m \u001B[49m\u001B[38;5;241;43m10\u001B[39;49m\u001B[43m)\u001B[49m, \n\u001B[0;32m     43\u001B[0m           trapezoid_approx(f, \u001B[38;5;241m-\u001B[39m\u001B[38;5;241m1.0\u001B[39m, \u001B[38;5;241m1.0\u001B[39m, \u001B[38;5;241m10\u001B[39m), \n\u001B[0;32m     44\u001B[0m           simpsons_approx(f, \u001B[38;5;241m-\u001B[39m\u001B[38;5;241m1.0\u001B[39m, \u001B[38;5;241m1.0\u001B[39m, \u001B[38;5;241m10\u001B[39m), \u001B[38;5;241m2\u001B[39m\u001B[38;5;241m/\u001B[39m\u001B[38;5;241m3\u001B[39m)\n",
      "Cell \u001B[1;32mIn[11], line 14\u001B[0m, in \u001B[0;36mbox_approx\u001B[1;34m(func, a, b, rie_boxes)\u001B[0m\n\u001B[0;32m     12\u001B[0m F \u001B[38;5;241m=\u001B[39m \u001B[38;5;28;01mlambda\u001B[39;00m i: func(x(i, w)) \u001B[38;5;66;03m# anti derivative\u001B[39;00m\n\u001B[0;32m     13\u001B[0m \u001B[38;5;28mprint\u001B[39m((\u001B[38;5;28mrange\u001B[39m(\u001B[38;5;241m0\u001B[39m, rie_boxes))[\u001B[38;5;241m1\u001B[39m:])\n\u001B[1;32m---> 14\u001B[0m \u001B[38;5;28;01mreturn\u001B[39;00m w \u001B[38;5;241m*\u001B[39m \u001B[43mriemann_integration\u001B[49m\u001B[43m(\u001B[49m\u001B[38;5;28;43mrange\u001B[39;49m\u001B[43m(\u001B[49m\u001B[38;5;241;43m0\u001B[39;49m\u001B[43m,\u001B[49m\u001B[43m \u001B[49m\u001B[43mrie_boxes\u001B[49m\u001B[43m)\u001B[49m\u001B[43m,\u001B[49m\u001B[43m \u001B[49m\u001B[43mF\u001B[49m\u001B[43m)\u001B[49m\n",
      "Cell \u001B[1;32mIn[11], line 7\u001B[0m, in \u001B[0;36mriemann_integration\u001B[1;34m(width, func)\u001B[0m\n\u001B[0;32m      5\u001B[0m     \u001B[38;5;28;01mreturn\u001B[39;00m \u001B[38;5;241m0\u001B[39m\n\u001B[0;32m      6\u001B[0m \u001B[38;5;28;01melse\u001B[39;00m:\n\u001B[1;32m----> 7\u001B[0m     func(width[\u001B[38;5;241m0\u001B[39m]) \u001B[38;5;241m+\u001B[39m \u001B[43mriemann_integration\u001B[49m\u001B[43m(\u001B[49m\u001B[43mwidth\u001B[49m\u001B[43m[\u001B[49m\u001B[38;5;241;43m1\u001B[39;49m\u001B[43m:\u001B[49m\u001B[43m]\u001B[49m\u001B[43m,\u001B[49m\u001B[43m \u001B[49m\u001B[43mfunc\u001B[49m\u001B[43m)\u001B[49m\n",
      "Cell \u001B[1;32mIn[11], line 7\u001B[0m, in \u001B[0;36mriemann_integration\u001B[1;34m(width, func)\u001B[0m\n\u001B[0;32m      5\u001B[0m     \u001B[38;5;28;01mreturn\u001B[39;00m \u001B[38;5;241m0\u001B[39m\n\u001B[0;32m      6\u001B[0m \u001B[38;5;28;01melse\u001B[39;00m:\n\u001B[1;32m----> 7\u001B[0m     func(width[\u001B[38;5;241m0\u001B[39m]) \u001B[38;5;241m+\u001B[39m \u001B[43mriemann_integration\u001B[49m\u001B[43m(\u001B[49m\u001B[43mwidth\u001B[49m\u001B[43m[\u001B[49m\u001B[38;5;241;43m1\u001B[39;49m\u001B[43m:\u001B[49m\u001B[43m]\u001B[49m\u001B[43m,\u001B[49m\u001B[43m \u001B[49m\u001B[43mfunc\u001B[49m\u001B[43m)\u001B[49m\n",
      "    \u001B[1;31m[... skipping similar frames: riemann_integration at line 7 (6 times)]\u001B[0m\n",
      "Cell \u001B[1;32mIn[11], line 7\u001B[0m, in \u001B[0;36mriemann_integration\u001B[1;34m(width, func)\u001B[0m\n\u001B[0;32m      5\u001B[0m     \u001B[38;5;28;01mreturn\u001B[39;00m \u001B[38;5;241m0\u001B[39m\n\u001B[0;32m      6\u001B[0m \u001B[38;5;28;01melse\u001B[39;00m:\n\u001B[1;32m----> 7\u001B[0m     \u001B[43mfunc\u001B[49m\u001B[43m(\u001B[49m\u001B[43mwidth\u001B[49m\u001B[43m[\u001B[49m\u001B[38;5;241;43m0\u001B[39;49m\u001B[43m]\u001B[49m\u001B[43m)\u001B[49m\u001B[43m \u001B[49m\u001B[38;5;241;43m+\u001B[39;49m\u001B[43m \u001B[49m\u001B[43mriemann_integration\u001B[49m\u001B[43m(\u001B[49m\u001B[43mwidth\u001B[49m\u001B[43m[\u001B[49m\u001B[38;5;241;43m1\u001B[39;49m\u001B[43m:\u001B[49m\u001B[43m]\u001B[49m\u001B[43m,\u001B[49m\u001B[43m \u001B[49m\u001B[43mfunc\u001B[49m\u001B[43m)\u001B[49m\n",
      "\u001B[1;31mTypeError\u001B[0m: unsupported operand type(s) for +: 'float' and 'NoneType'"
     ]
    }
   ],
   "source": [
    "import numpy as np\n",
    "\n",
    "def riemann_integration(width, func):\n",
    "    if len(width) == 0:\n",
    "        return 0\n",
    "    else:\n",
    "        func(width[0]) + riemann_integration(width[1:], func) \n",
    "        \n",
    "def box_approx(func, a, b, rie_boxes):\n",
    "    x = lambda i, w: a+i * w # i index, w width\n",
    "    w = (b - a) / rie_boxes  # def of width\n",
    "    F = lambda i: func(x(i, w)) # anti derivative\n",
    "    print((range(0, rie_boxes))[1:])\n",
    "    return w * riemann_integration(range(0, rie_boxes), F) # try np.linspace(0, 10, 10)\n",
    "\n",
    "\n",
    "def trapezoid_approx(func, a, b, rie_boxes):\n",
    "    x = lambda i, w: a+i * w\n",
    "    w = (b - a) / rie_boxes\n",
    "    F = lambda i: 0.5 * (func(x(i, w)) + func(x(i+1, w)))\n",
    "    return w * riemann_integration(range(0, rie_boxes), F)\n",
    "\n",
    "\n",
    "def simpsons_approx(func, a, b, rie_boxes):\n",
    "    \"\"\"1/3\"\"\"\n",
    "    even = lambda n: n % 2 == 0\n",
    "    if not even(rie_boxes):\n",
    "        rie_boxes = rie_boxes + 1\n",
    "    x = lambda i, w: a+i * w\n",
    "    w = (b - a) / rie_boxes\n",
    "    F = lambda i: func(x(i, w))\n",
    "    return w/3.0 * (\n",
    "        func(a) + func(b) + \n",
    "        2 * riemann_integration(range(2, rie_boxes, 2), F) + \n",
    "        4 * riemann_integration(range(1, rie_boxes, 2), F)\n",
    "    )\n",
    "if __name__ ==\"__main__\":\n",
    "    #print(len(range(0, 10))) \n",
    "    #print(np.linspace(0, 10, 10))\n",
    "    #print(len(np.linspace(0, 10, 10)))\n",
    "    f = lambda x: x**2\n",
    "    print(box_approx(f, -1.0, 1.0, 10), \n",
    "          trapezoid_approx(f, -1.0, 1.0, 10), \n",
    "          simpsons_approx(f, -1.0, 1.0, 10), 2/3)\n",
    "    "
   ]
  },
  {
   "cell_type": "markdown",
   "source": [
    "Integrate 3 cases using 3 functions calling functions above"
   ],
   "metadata": {
    "collapsed": false
   },
   "id": "d65eb0a78f99858e"
  },
  {
   "cell_type": "code",
   "execution_count": 12,
   "outputs": [
    {
     "name": "stdout",
     "output_type": "stream",
     "text": [
      "range(1, 10)\n"
     ]
    },
    {
     "ename": "TypeError",
     "evalue": "unsupported operand type(s) for +: 'float' and 'NoneType'",
     "output_type": "error",
     "traceback": [
      "\u001B[1;31m---------------------------------------------------------------------------\u001B[0m",
      "\u001B[1;31mTypeError\u001B[0m                                 Traceback (most recent call last)",
      "Cell \u001B[1;32mIn[12], line 14\u001B[0m\n\u001B[0;32m     11\u001B[0m choice_dictionary \u001B[38;5;241m=\u001B[39m {\u001B[38;5;124m\"\u001B[39m\u001B[38;5;124mbox\u001B[39m\u001B[38;5;124m\"\u001B[39m: box_approx, \u001B[38;5;124m\"\u001B[39m\u001B[38;5;124mtrapezoid\u001B[39m\u001B[38;5;124m\"\u001B[39m: trapezoid_approx, \u001B[38;5;124m\"\u001B[39m\u001B[38;5;124msimpson\u001B[39m\u001B[38;5;124m\"\u001B[39m: simpsons_approx}\n\u001B[0;32m     13\u001B[0m \u001B[38;5;28;01mif\u001B[39;00m \u001B[38;5;18m__name__\u001B[39m \u001B[38;5;241m==\u001B[39m\u001B[38;5;124m\"\u001B[39m\u001B[38;5;124m__main__\u001B[39m\u001B[38;5;124m\"\u001B[39m:\n\u001B[1;32m---> 14\u001B[0m     \u001B[38;5;28mprint\u001B[39m(\u001B[43mintegrate_using\u001B[49m\u001B[43m(\u001B[49m\u001B[38;5;124;43m\"\u001B[39;49m\u001B[38;5;124;43mbox\u001B[39;49m\u001B[38;5;124;43m\"\u001B[39;49m\u001B[43m)\u001B[49m\u001B[43m(\u001B[49m\u001B[43mf\u001B[49m\u001B[43m,\u001B[49m\u001B[43m \u001B[49m\u001B[38;5;241;43m2.0\u001B[39;49m\u001B[43m,\u001B[49m\u001B[43m \u001B[49m\u001B[38;5;241;43m3.0\u001B[39;49m\u001B[43m,\u001B[49m\u001B[43m \u001B[49m\u001B[38;5;241;43m10\u001B[39;49m\u001B[43m)\u001B[49m,\n\u001B[0;32m     15\u001B[0m           integrate_using(\u001B[38;5;124m\"\u001B[39m\u001B[38;5;124mtrapezoid\u001B[39m\u001B[38;5;124m\"\u001B[39m)(f, \u001B[38;5;241m2.0\u001B[39m, \u001B[38;5;241m3.0\u001B[39m, \u001B[38;5;241m10\u001B[39m),\n\u001B[0;32m     16\u001B[0m           integrate_using(\u001B[38;5;124m\"\u001B[39m\u001B[38;5;124msimpson\u001B[39m\u001B[38;5;124m\"\u001B[39m)(f, \u001B[38;5;241m2.0\u001B[39m, \u001B[38;5;241m3.0\u001B[39m, \u001B[38;5;241m10\u001B[39m), \u001B[38;5;241m19\u001B[39m\u001B[38;5;241m/\u001B[39m\u001B[38;5;241m3\u001B[39m\n\u001B[0;32m     17\u001B[0m           )\n",
      "Cell \u001B[1;32mIn[11], line 14\u001B[0m, in \u001B[0;36mbox_approx\u001B[1;34m(func, a, b, rie_boxes)\u001B[0m\n\u001B[0;32m     12\u001B[0m F \u001B[38;5;241m=\u001B[39m \u001B[38;5;28;01mlambda\u001B[39;00m i: func(x(i, w)) \u001B[38;5;66;03m# anti derivative\u001B[39;00m\n\u001B[0;32m     13\u001B[0m \u001B[38;5;28mprint\u001B[39m((\u001B[38;5;28mrange\u001B[39m(\u001B[38;5;241m0\u001B[39m, rie_boxes))[\u001B[38;5;241m1\u001B[39m:])\n\u001B[1;32m---> 14\u001B[0m \u001B[38;5;28;01mreturn\u001B[39;00m w \u001B[38;5;241m*\u001B[39m \u001B[43mriemann_integration\u001B[49m\u001B[43m(\u001B[49m\u001B[38;5;28;43mrange\u001B[39;49m\u001B[43m(\u001B[49m\u001B[38;5;241;43m0\u001B[39;49m\u001B[43m,\u001B[49m\u001B[43m \u001B[49m\u001B[43mrie_boxes\u001B[49m\u001B[43m)\u001B[49m\u001B[43m,\u001B[49m\u001B[43m \u001B[49m\u001B[43mF\u001B[49m\u001B[43m)\u001B[49m\n",
      "Cell \u001B[1;32mIn[11], line 7\u001B[0m, in \u001B[0;36mriemann_integration\u001B[1;34m(width, func)\u001B[0m\n\u001B[0;32m      5\u001B[0m     \u001B[38;5;28;01mreturn\u001B[39;00m \u001B[38;5;241m0\u001B[39m\n\u001B[0;32m      6\u001B[0m \u001B[38;5;28;01melse\u001B[39;00m:\n\u001B[1;32m----> 7\u001B[0m     func(width[\u001B[38;5;241m0\u001B[39m]) \u001B[38;5;241m+\u001B[39m \u001B[43mriemann_integration\u001B[49m\u001B[43m(\u001B[49m\u001B[43mwidth\u001B[49m\u001B[43m[\u001B[49m\u001B[38;5;241;43m1\u001B[39;49m\u001B[43m:\u001B[49m\u001B[43m]\u001B[49m\u001B[43m,\u001B[49m\u001B[43m \u001B[49m\u001B[43mfunc\u001B[49m\u001B[43m)\u001B[49m\n",
      "Cell \u001B[1;32mIn[11], line 7\u001B[0m, in \u001B[0;36mriemann_integration\u001B[1;34m(width, func)\u001B[0m\n\u001B[0;32m      5\u001B[0m     \u001B[38;5;28;01mreturn\u001B[39;00m \u001B[38;5;241m0\u001B[39m\n\u001B[0;32m      6\u001B[0m \u001B[38;5;28;01melse\u001B[39;00m:\n\u001B[1;32m----> 7\u001B[0m     func(width[\u001B[38;5;241m0\u001B[39m]) \u001B[38;5;241m+\u001B[39m \u001B[43mriemann_integration\u001B[49m\u001B[43m(\u001B[49m\u001B[43mwidth\u001B[49m\u001B[43m[\u001B[49m\u001B[38;5;241;43m1\u001B[39;49m\u001B[43m:\u001B[49m\u001B[43m]\u001B[49m\u001B[43m,\u001B[49m\u001B[43m \u001B[49m\u001B[43mfunc\u001B[49m\u001B[43m)\u001B[49m\n",
      "    \u001B[1;31m[... skipping similar frames: riemann_integration at line 7 (6 times)]\u001B[0m\n",
      "Cell \u001B[1;32mIn[11], line 7\u001B[0m, in \u001B[0;36mriemann_integration\u001B[1;34m(width, func)\u001B[0m\n\u001B[0;32m      5\u001B[0m     \u001B[38;5;28;01mreturn\u001B[39;00m \u001B[38;5;241m0\u001B[39m\n\u001B[0;32m      6\u001B[0m \u001B[38;5;28;01melse\u001B[39;00m:\n\u001B[1;32m----> 7\u001B[0m     \u001B[43mfunc\u001B[49m\u001B[43m(\u001B[49m\u001B[43mwidth\u001B[49m\u001B[43m[\u001B[49m\u001B[38;5;241;43m0\u001B[39;49m\u001B[43m]\u001B[49m\u001B[43m)\u001B[49m\u001B[43m \u001B[49m\u001B[38;5;241;43m+\u001B[39;49m\u001B[43m \u001B[49m\u001B[43mriemann_integration\u001B[49m\u001B[43m(\u001B[49m\u001B[43mwidth\u001B[49m\u001B[43m[\u001B[49m\u001B[38;5;241;43m1\u001B[39;49m\u001B[43m:\u001B[49m\u001B[43m]\u001B[49m\u001B[43m,\u001B[49m\u001B[43m \u001B[49m\u001B[43mfunc\u001B[49m\u001B[43m)\u001B[49m\n",
      "\u001B[1;31mTypeError\u001B[0m: unsupported operand type(s) for +: 'float' and 'NoneType'"
     ]
    }
   ],
   "source": [
    "def integrate_using(str):\n",
    "    if str == \"box\":\n",
    "        return box_approx\n",
    "    elif str == \"trapezoid\":\n",
    "        return trapezoid_approx\n",
    "    elif str == \"simpson\":\n",
    "        return simpsons_approx\n",
    "    else:\n",
    "        raise Exception(\"method does not exist in this code\")\n",
    "\n",
    "choice_dictionary = {\"box\": box_approx, \"trapezoid\": trapezoid_approx, \"simpson\": simpsons_approx}\n",
    "\n",
    "if __name__ ==\"__main__\":\n",
    "    print(integrate_using(\"box\")(f, 2.0, 3.0, 10),\n",
    "          integrate_using(\"trapezoid\")(f, 2.0, 3.0, 10),\n",
    "          integrate_using(\"simpson\")(f, 2.0, 3.0, 10), 19/3\n",
    "          )\n"
   ],
   "metadata": {
    "collapsed": false,
    "ExecuteTime": {
     "end_time": "2023-09-13T16:34:48.795112Z",
     "start_time": "2023-09-13T16:34:48.324974300Z"
    }
   },
   "id": "39ca29b45dfd14a8"
  },
  {
   "cell_type": "markdown",
   "source": [
    "Write a function that computes a polynomial using a recursive sum"
   ],
   "metadata": {
    "collapsed": false
   },
   "id": "c8876c7919484cd5"
  },
  {
   "cell_type": "code",
   "execution_count": 14,
   "outputs": [
    {
     "name": "stdout",
     "output_type": "stream",
     "text": [
      "37.0\n"
     ]
    }
   ],
   "source": [
    "def poly_interation(coef, x, power):\n",
    "    return coef[0]*x**power if len(coef) == 1 else coef[0]*x**power + poly_interation(coef[1:], x, power + 1)\n",
    "    # a^n else a^n + a^n+1\n",
    "\n",
    "\n",
    "def compute_polynomial(coef, x):   \n",
    "    return poly_interation(coef, x, 0)\n",
    "\n",
    "\n",
    "if __name__ ==\"__main__\":\n",
    "    print(compute_polynomial([3, 1, 2, 3], 2.0))"
   ],
   "metadata": {
    "collapsed": false,
    "ExecuteTime": {
     "end_time": "2023-09-13T16:41:09.880771400Z",
     "start_time": "2023-09-13T16:41:09.821624800Z"
    }
   },
   "id": "b8dfc885cf65069c"
  },
  {
   "cell_type": "markdown",
   "source": [
    "Use a recursive Horner's method to do no. 3"
   ],
   "metadata": {
    "collapsed": false
   },
   "id": "2404606d0ccb281"
  },
  {
   "cell_type": "code",
   "execution_count": 16,
   "outputs": [
    {
     "name": "stdout",
     "output_type": "stream",
     "text": [
      "37.0\n"
     ]
    }
   ],
   "source": [
    "def horner(coef, x):\n",
    "    return coef[1]*x + coef[0] if len(coef) == 2 else horner(coef[1:], x)*x + coef[0]\n",
    "\n",
    "print(horner([3, 1, 2, 3], 2.0))"
   ],
   "metadata": {
    "collapsed": false,
    "ExecuteTime": {
     "end_time": "2023-09-13T16:43:59.926433Z",
     "start_time": "2023-09-13T16:43:59.879498300Z"
    }
   },
   "id": "656f55134802052b"
  }
 ],
 "metadata": {
  "kernelspec": {
   "display_name": "Python 3",
   "language": "python",
   "name": "python3"
  },
  "language_info": {
   "codemirror_mode": {
    "name": "ipython",
    "version": 2
   },
   "file_extension": ".py",
   "mimetype": "text/x-python",
   "name": "python",
   "nbconvert_exporter": "python",
   "pygments_lexer": "ipython2",
   "version": "2.7.6"
  }
 },
 "nbformat": 4,
 "nbformat_minor": 5
}
