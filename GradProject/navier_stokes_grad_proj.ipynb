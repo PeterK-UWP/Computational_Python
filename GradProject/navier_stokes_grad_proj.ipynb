{
 "cells": [
  {
   "cell_type": "code",
   "execution_count": null,
   "id": "initial_id",
   "metadata": {
    "collapsed": true
   },
   "outputs": [],
   "source": []
  },
  {
   "cell_type": "markdown",
   "source": [
    "$$\\frac{\\partial{\\vec{u}}}{\\partial{t}} + (\\vec{u} \\cdot \\vec{\\nabla}{\\vec{u}})\\vec{u} = -\\frac{1}{\\rho}\\vec{\\nabla}{p} + \\nu\\vec{\\nabla}^2\\vec{u} + \\vec{g}$$\n",
    "\n",
    "$p$: pressure\n",
    "$u$: velocity\n",
    "$\\rho$: the fluids density\n",
    "$\\nu$: the kinematic viscosity given by: $\\frac{\\eta}{\\rho}$, with $\\eta$ being the viscosity\n",
    "$g$: gravity experienced by the fluid\n",
    "\n",
    "The fluid will be incompressible given by:\n",
    "$$ \\vec{\\nabla} \\cdot \\vec{u} = 0 $$\n",
    "This means the fluid density should remain constant\n",
    "\n",
    "Similar to that of the example at https://www.youtube.com/watch?v=BQLvNLgMTQE, here we will solve the Navier-Stokes equation in 2D using Chorin's Projection method.\n",
    "\n",
    "First, by solving the momentum part without the pressure gradient\n",
    "Second, by solving the pressure poisson's equation\n",
    "Third, by correcting the velocities using the solution to the poisson's equation\n",
    "\n"
   ],
   "metadata": {
    "collapsed": false
   },
   "id": "1ce2ebccff31881b"
  }
 ],
 "metadata": {
  "kernelspec": {
   "display_name": "Python 3",
   "language": "python",
   "name": "python3"
  },
  "language_info": {
   "codemirror_mode": {
    "name": "ipython",
    "version": 2
   },
   "file_extension": ".py",
   "mimetype": "text/x-python",
   "name": "python",
   "nbconvert_exporter": "python",
   "pygments_lexer": "ipython2",
   "version": "2.7.6"
  }
 },
 "nbformat": 4,
 "nbformat_minor": 5
}
