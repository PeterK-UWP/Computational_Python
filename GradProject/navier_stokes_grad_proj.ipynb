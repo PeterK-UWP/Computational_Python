{
 "cells": [
  {
   "cell_type": "code",
   "execution_count": null,
   "id": "initial_id",
   "metadata": {
    "collapsed": true
   },
   "outputs": [],
   "source": []
  },
  {
   "cell_type": "markdown",
   "source": [
    "$$\\frac{\\partial{\\vec{u}}}{\\partial{t}} + (\\vec{u} \\cdot \\vec{\\nabla}{\\vec{u}})\\vec{u} = -\\frac{1}{\\rho}\\vec{\\nabla}{p} + \\nu\\vec{\\nabla}^2\\vec{u} + \\vec{g}$$\n",
    "\n",
    "$p$: pressure\n",
    "$u$: velocity\n",
    "$\\rho$: the fluids density\n",
    "$\\nu$: the kinematic viscosity given by: $\\frac{\\eta}{\\rho}$, with $\\eta$ being the viscosity\n",
    "$g$: gravity experienced by the fluid\n",
    "\n",
    "The fluid will be incompressible given by:\n",
    "$$ \\vec{\\nabla} \\cdot \\vec{u} = 0 $$\n",
    "This means the fluid density should remain constant\n",
    "\n",
    "Similar to that of the example at https://www.youtube.com/watch?v=BQLvNLgMTQE, here we will solve the Navier-Stokes equation in 2D using Chorin's Projection method, with finite element method.\n",
    "\n",
    "First, by solving the momentum part without the pressure gradient\n",
    "Second, by solving the pressure poisson's equation\n",
    "Third, by correcting the velocities using the solution to the poisson's equation\n",
    "\n"
   ],
   "metadata": {
    "collapsed": false
   },
   "id": "1ce2ebccff31881b"
  },
  {
   "cell_type": "markdown",
   "source": [
    "Latex extra stuff i might need later:\n",
    "\n",
    "\t%The unknowns one wishes to solve from the 2D Navier-Stokes is the velocity vector field $\\vec{u}(x, y, t)$ and the pressure gradient $\\vec{\\nabla}p(x, y)$. This nonlinear partial differential equation has one time derivative and two spacial derivatives in $\\vec{u}(x, y, t)$ followed by two spacial derivatives in $p(x, y)$. For the initial condition in time, we will assume the fluid is at rest everywhere at time $t=0$. This also means that the pressure in the fluid is $0$ everywhere. For the boundary conditions of $\\vec{u}(x, y, t)$, the fluid should reflect off the container, thus one will apply homogeneous Dirichlet boundary conditions to the velocity vector field everywhere except the top of the cavity, where a second fluid will be driving the systems at some horizontal velocity. One will also enact homogeneous Neumann boundary conditions on the pressure gradient.\n",
    "\t\n",
    "\n",
    "\t\\subsubsection{Solving the Momentum Equation}\n",
    "\tThe first step in the analysis of the Navier Stokes is by using a technique called operator splitting. First one will solve for the temporal term and write it explicitly as some change in the velocity.\n",
    "\t\t\\begin{equation}\n",
    "\t\t\t\\frac{\\vec{u}_{t+1} - \\vec{u}_t}{\\Delta t} = \\frac{\\partial{\\vec{u}}}{\\partial{t}} = -\\frac{1}{\\rho}\\vec{\\nabla}p + \\nu\\vec{\\nabla}^2\\vec{u}  - (\\vec{u} \\cdot \\vec{\\nabla})\\vec{u}\n",
    "\t\t\\end{equation}\n",
    "\t\n",
    "\n",
    "\t\n",
    "\tOne then will split the time steps of the velocity into two parts, separated by some intermediate tentative velocity $\\vec{u}^*$. This will result in two equations: the momentum part and the pressure gradient part. \n",
    "\t\t\\begin{equation}\n",
    "\t\t\t\\frac{\\vec{u}^* - \\vec{u}_t}{\\Delta t} =  \\nu\\vec{\\nabla}^2\\vec{u}  - (\\vec{u} \\cdot \\vec{\\nabla})\\vec{u} \n",
    "\t\t\\end{equation}\n",
    "\t\t\\begin{equation}\n",
    "\t\t\t\\frac{\\vec{u}_{t+1} - \\vec{u}^*}{\\Delta t} = -\\frac{1}{\\rho}\\vec{\\nabla}p\n",
    "\t\t\\end{equation}\n",
    "\tIn the first expression $(3.2)$, the tentative velocity is no longer incompressible due to the lack of the pressure term. The new unknown $\\vec{u}^*$ will then be implicitly known and represented in the diffusing term, while $\\vec{u}_t$ will be explicitly known in the convective term. One can then solve for the compressible tentative velocity.\n",
    "\t\t\\begin{equation}\n",
    "\t\t\t\\frac{\\vec{u}^* - \\vec{u}_t}{\\Delta t} =  \\nu\\vec{\\nabla}^2\\vec{u}^*  - (\\vec{u}_t \\cdot \\vec{\\nabla})\\vec{u}_t\n",
    "\t\t\\end{equation}\n",
    "\t\\subsubsection{Pressure Poisson's Equation}\n",
    "\tTo remedy the incompressible tentative velocity, one will solve for the pressure by applying the divergence to $(3.3)$ resulting in a pressure poisson's equation.\n",
    "\tBecause $u_{t+1}$ is still incompressible, the term will go to zero, and with the tentative velocity known one can solve for the pressure.\n",
    "\t\t\\begin{equation}\n",
    "\t\t\t\\frac{1}{\\Delta t}(\\vec{\\nabla} \\cdot \\vec{u}^*) = \\nabla^2p\n",
    "\t\t\\end{equation}\n",
    "\t\\subsubsection{Velocity Correction / Projection}\n",
    "\t\tNow with the pressure known, on can correct the tentative velcoity by projecting into a function space that is incompressible using $(3.3)$.\n",
    "\t\tThe equations above represent the strong form of the convection problem. A weak form can also be determined by integration. The weak form will be applied to the numerical approach. \n",
    "\t\t\n",
    "\t% oophf"
   ],
   "metadata": {
    "collapsed": false
   },
   "id": "b80c96816cf0049d"
  }
 ],
 "metadata": {
  "kernelspec": {
   "display_name": "Python 3",
   "language": "python",
   "name": "python3"
  },
  "language_info": {
   "codemirror_mode": {
    "name": "ipython",
    "version": 2
   },
   "file_extension": ".py",
   "mimetype": "text/x-python",
   "name": "python",
   "nbconvert_exporter": "python",
   "pygments_lexer": "ipython2",
   "version": "2.7.6"
  }
 },
 "nbformat": 4,
 "nbformat_minor": 5
}
