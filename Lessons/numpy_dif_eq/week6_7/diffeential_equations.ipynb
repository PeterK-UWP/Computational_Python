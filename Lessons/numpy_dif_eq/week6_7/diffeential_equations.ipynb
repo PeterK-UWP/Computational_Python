{
 "cells": [
  {
   "cell_type": "markdown",
   "source": [
    "Solving a 1st order ODE Boundary Value problems\n",
    "\n",
    "$$\\frac{dy}{dx} = x^{2}$$\n",
    "\n",
    "forward difference, backward difference, average difference\n",
    "$$\n",
    "y_{i+1} - y_i / del = f\n",
    "$$$$\n",
    "y_{i+1} - y_i = f*del\n",
    "$$$$\n",
    "y_1 - y_0 = delf0\n",
    "$$$$\n",
    "y_2 - y_1 = delf1\n",
    "$$\n",
    ".\n",
    ".\n",
    ".\n",
    "into matrix form: Ay = f  -> y = A^-1f\n",
    "$$"
   ],
   "metadata": {
    "collapsed": false
   },
   "id": "44e9f78942cfccc3"
  },
  {
   "cell_type": "code",
   "execution_count": null,
   "id": "initial_id",
   "metadata": {
    "collapsed": true,
    "ExecuteTime": {
     "start_time": "2023-09-27T13:36:01.466761100Z"
    }
   },
   "outputs": [],
   "source": [
    "import matplotlib.pyplot as plt\n",
    "import time\n",
    "import math\n",
    "import vector as vec\n",
    "import matrix as mat\n",
    "\n",
    "def first_order_1d(a, b, N, rhs, bc):\n",
    "    delta = (b - a)/(N-1)\n",
    "    A = matrix.matrix(N, N)\n",
    "    b = vector.vector(N)\n",
    "    x = vector.vector(N)\n",
    "    \n",
    "    for i in range(N):\n",
    "        A[i, i, ] = -1\n",
    "        try:\n",
    "            A[i, i+1] = 1\n",
    "        except Exception as e:\n",
    "            pass\n",
    "        b[i] = delta*rhs(i*delta)\n",
    "        x[i] = a+delta*i\n",
    "    indices = list(bc.keys())\n",
    "    # first order has 1 BC\n",
    "    index = indices[0]\n",
    "    bc_val= bc[index]\n",
    "    \n",
    "    A[index, index] = b[index]/bc_val   \n",
    "    try:\n",
    "        A[index, index+1] = 0\n",
    "    except Exception as e:\n",
    "        pass\n",
    "    begin_time = time.time()\n",
    "    A_inv = matrix.inverse(A)\n",
    "    y = A_inv.inner(b)\n",
    "    end_time = time.time()\n",
    "    compute_time = (end_time-begin_time)*1000\n",
    "    \n",
    "    return x, y, compute_time\n",
    "\n",
    "# Basic setup\n",
    "N_list = []\n",
    "t_list = []\n",
    "\n",
    "# right hand side (rhs) of dif eq\n",
    "rhs = lambda x: x*x\n",
    "a = 0\n",
    "b = 2\n",
    "\n",
    "# tabulated form\n",
    "x = [a + (b-a) / 99*i for i in range(100)]\n",
    "y = [(xx**3 - 2)/3 for xx in x]\n",
    "\n",
    "N = 3\n",
    "bc = {2:2}\n",
    "x_3, y_3, t_3 = first_order_1d(a, b, N, rhs, bc)\n",
    "plt.plot(x_3.v, y_3.v, label = 'N=3')\n",
    "N_list.append(N)\n",
    "t_list.append(t_3)\n",
    "print(f\"N={N} is done!\")\n",
    "\n",
    "N = 5\n",
    "bc = {4:2}\n",
    "x_5, y_5, t_5 = first_order_1d(a, b, N, rhs, bc)\n",
    "plt.plot(x_5.v, y_5.v, label = 'N=5')\n",
    "N_list.append(N)\n",
    "t_list.append(t_5)\n",
    "print(f\"N={N} is done!\")\n",
    "\n",
    "N = 7\n",
    "bc = {6:2}\n",
    "x_7, y_7, t_7 = first_order_1d(a, b, N, rhs, bc)\n",
    "plt.plot(x_7.v, y_7.v, label = 'N=7')\n",
    "N_list.append(N)\n",
    "t_list.append(t_7)\n",
    "print(f\"N={N} is done!\")\n",
    "\n",
    "N = 10\n",
    "bc = {9:2}\n",
    "x_10, y_10, t_10 = first_order_1d(a, b, N, rhs, bc)\n",
    "plt.plot(x_10.v, y_10.v, label = 'N=10')\n",
    "N_list.append(N)\n",
    "t_list.append(t_10)\n",
    "print(f\"N={N} is done!\")\n",
    "\n",
    "plt.xlabel('x')\n",
    "plt.ylabel('y')\n",
    "plt.plot(x, y, label = 'y(x)')\n",
    "plt.legend()\n",
    "plt.xlabel('N')\n",
    "plt.ylabel('Time (ms)')\n",
    "plt.yscale('log')\n",
    "plt.plot(N_list, t_list)\n",
    "plt.show()\n",
    "    \n",
    "\n",
    "\n",
    "\n",
    "    \n",
    "    "
   ]
  },
  {
   "cell_type": "markdown",
   "source": [
    "$$ \\frac{dy}{dx} = f$$\n",
    "$$Ay = b$$\n",
    "$$ y = bA^{-1}$$\n",
    "\n",
    "\\text{cannot use many N as it is too long, we use gaussian and backsubstitution}"
   ],
   "metadata": {
    "collapsed": false
   },
   "id": "ca5851dd6fa1c7ef"
  },
  {
   "cell_type": "code",
   "execution_count": null,
   "outputs": [],
   "source": [
    "import numpy as np\n",
    "import time\n",
    "import matplotlib.pyplot as plt\n",
    "\n",
    "def exchange_rows(a, i, j):\n",
    "    for k in range(len(a)):\n",
    "        tmp = a[i][k]\n",
    "        a[i][k] = a[j][k]\n",
    "        a[j][k] = tmp\n",
    "    return a\n",
    "\n",
    "\n",
    "def gaussian_upper_triangle(a, b):\n",
    "    C = np.column_stack((a, b))\n",
    "    \n",
    "    for i in range(len(C)):\n",
    "        if C[i][i] == 0:\n",
    "            if i < len(C) - 1:\n",
    "                exchange_rows(C, i, i+1)\n",
    "        else:\n",
    "            diag = C[i][i]\n",
    "            for k in range(i+1, len(C)):\n",
    "                C[k] = C[k]*diag - C[i]*C[k][i]\n",
    "    return C\n",
    "\n",
    "\n",
    "def back_substitution(A):\n",
    "    N = len(A)\n",
    "    x = np.zeros(N)\n",
    "    \n",
    "    x[N-1] = A[N-1][N]/A[N-1][N-1]\n",
    "    \n",
    "    for i in range(N-2, -1, -1):\n",
    "        s = 0\n",
    "        for j in range(i+1, N):\n",
    "            s += A[i][j]*x[j]\n",
    "        s = A[i][N] - s\n",
    "        s /= A[i][i]\n",
    "        x[i] = s\n",
    "    return x\n",
    "\n",
    "\n",
    "if __name__ == '__main__':\n",
    "    A = np.array([[2.0, 1.0, -1.0], [-3.0, -1.0, 2.0], [-2.0, 1.0, 2.0]])\n",
    "    b = np.array([8, -11, -3])\n",
    "    \n",
    "    c = gaussian_upper_triangle(A, b)\n",
    "    x = back_substitution(c)\n",
    "    \n",
    "    test = np.linalg.solve(A, b)\n",
    "    print(c, x, test)\n",
    "    print(A.dot(x), b)\n"
   ],
   "metadata": {
    "collapsed": false,
    "ExecuteTime": {
     "end_time": "2023-09-27T13:36:01.498217100Z",
     "start_time": "2023-09-27T13:36:01.488040300Z"
    }
   },
   "id": "fc4e134bbe023d86"
  },
  {
   "cell_type": "markdown",
   "source": [
    "\\text{}"
   ],
   "metadata": {
    "collapsed": false
   },
   "id": "8bad3916cddb479"
  },
  {
   "cell_type": "markdown",
   "source": [
    "solving\n",
    "$$p(x)\\frac{d^2y}{dx^2} + q(x)\\frac{dy}{dx} + r(x)y = s(x)$$"
   ],
   "metadata": {
    "collapsed": false
   },
   "id": "cb312ac300335102"
  },
  {
   "cell_type": "markdown",
   "source": [],
   "metadata": {
    "collapsed": false
   },
   "id": "ae0b76ef6f681fc5"
  }
 ],
 "metadata": {
  "kernelspec": {
   "display_name": "Python 3",
   "language": "python",
   "name": "python3"
  },
  "language_info": {
   "codemirror_mode": {
    "name": "ipython",
    "version": 2
   },
   "file_extension": ".py",
   "mimetype": "text/x-python",
   "name": "python",
   "nbconvert_exporter": "python",
   "pygments_lexer": "ipython2",
   "version": "2.7.6"
  }
 },
 "nbformat": 4,
 "nbformat_minor": 5
}
