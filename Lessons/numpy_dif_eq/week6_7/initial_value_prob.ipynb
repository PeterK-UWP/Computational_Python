{
 "cells": [
  {
   "cell_type": "markdown",
   "source": [
    "initial value problem\n",
    "$$\\frac{dv}{dt} = q(t)$$\n",
    "\n",
    "$$\\frac{v(t_i+\\delta(t))-v(t_i)}{\\delta(t)} = q(t)$$\n",
    "\n",
    "$${v(t_i+\\delta(t))-v(t_i)} = q(t)\\delta(t)$$\n",
    "Euler's Method\n",
    "$$v_{i+1} = v_i + q_i*\\delta(t)$$\n",
    "\n",
    "delta t must be very small\n",
    "\n",
    "for second order:\n",
    "$$\\frac{d^2x}{dt^2}=a(t)$$\n",
    "\n",
    "$$\\frac{dx}{dt} = v(t)$$\n",
    "$$\\frac{dv}{dt} = a(t)$$\n",
    "\n",
    "$=>$\n",
    "$$\\frac{d}{dt}(x, v) = (v, a))$$\n",
    "$$\\frac{d}{dt}\\xi = \\zeta$$\n",
    "$$\\xi_{i+1} = \\xi_i + \\zeta\\delta(t)$$\n",
    "\n",
    "$$(x_{i+1}, v_{i+1}) = (x_i, v_i) + \\delta(t)(v_i, a_i)$$"
   ],
   "metadata": {
    "collapsed": false
   },
   "id": "ff63c7846166c4ef"
  },
  {
   "cell_type": "markdown",
   "source": [],
   "metadata": {
    "collapsed": false
   },
   "id": "73bd3595dd181211"
  },
  {
   "cell_type": "markdown",
   "source": [
    "try cannonball problem: $$\\frac{d^2x}{dt^2} = 0, \\frac{d^2y}{dt^2} = -g$$\n",
    "$$\\delta(x) = vt + 0.5gt^2$$\n",
    "\n",
    "$$\\frac{d}{dt}(x, y, v_x, v_y) = (v_x, v_y, 0, -g)$$"
   ],
   "metadata": {
    "collapsed": false
   },
   "id": "48925a03e344e154"
  },
  {
   "cell_type": "code",
   "execution_count": 6,
   "outputs": [
    {
     "name": "stdout",
     "output_type": "stream",
     "text": [
      "[18.160805014552555, 18.160805014552555, 18.160805014552555, 18.160805014552555, 18.160805014552555, 18.160805014552555, 18.160805014552555, 18.160805014552555, 18.160805014552555, 18.160805014552555, 18.160805014552555, 18.160805014552555, 18.160805014552555, 18.160805014552555, 18.160805014552555, 18.160805014552555, 18.160805014552555, 18.160805014552555, 18.160805014552555, 18.160805014552555]\n"
     ]
    }
   ],
   "source": [
    "import numpy as np\n",
    "import matplotlib.pyplot as plt\n",
    "from linear_solver import jacobi\n",
    "\n",
    "x = 0\n",
    "y = 0\n",
    "v0 = eval(input('initial velocity:'))\n",
    "theta = eval(input('initial angle'))\n",
    "vx = v0*np.cos(theta)\n",
    "vy = v0*np.sin(theta)\n",
    "dt = 0.01\n",
    "g = -9.81\n",
    "\n",
    "vx_list = []\n",
    "vy_list = []\n",
    "\n",
    "for i in np.linspace(0, 5, 20):\n",
    "    xi_new = xi + zeta*dt\n",
    "    update zeta\n",
    "    \n",
    "    \n",
    "def zeta(x, t):\n",
    "    def xi()\n",
    "    return zeta\n",
    "print(vy_list)\n",
    "    \n",
    "\n"
   ],
   "metadata": {
    "collapsed": false,
    "ExecuteTime": {
     "end_time": "2023-09-27T14:30:53.691441700Z",
     "start_time": "2023-09-27T14:30:51.163396600Z"
    }
   },
   "id": "78fc9bc9627d1f5d"
  },
  {
   "cell_type": "code",
   "execution_count": null,
   "id": "initial_id",
   "metadata": {
    "collapsed": true,
    "ExecuteTime": {
     "start_time": "2023-09-27T14:16:16.840233800Z"
    }
   },
   "outputs": [],
   "source": []
  }
 ],
 "metadata": {
  "kernelspec": {
   "display_name": "Python 3",
   "language": "python",
   "name": "python3"
  },
  "language_info": {
   "codemirror_mode": {
    "name": "ipython",
    "version": 2
   },
   "file_extension": ".py",
   "mimetype": "text/x-python",
   "name": "python",
   "nbconvert_exporter": "python",
   "pygments_lexer": "ipython2",
   "version": "2.7.6"
  }
 },
 "nbformat": 4,
 "nbformat_minor": 5
}
