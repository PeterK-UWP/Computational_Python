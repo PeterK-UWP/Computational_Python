{
 "cells": [
  {
   "cell_type": "markdown",
   "source": [
    "scaled equations:\n",
    "\n",
    "$$\\frac{a_2}{\\tau} \\frac{dv'_1}{dt'} = -\\frac{Gm1(m2/m1)a_2(r'_2 - r'_1)}{a_2^3(r'_2 - r'_1)^3} - ...$$\n",
    "\n",
    "$$\\frac{dv_1'}{dt'} = -\\frac{4\\pi^2 m_2' (r_2' - r_1')}{(r_2' - r_1')^3} -\\frac{4\\pi^2 m_3' (r_3' - r_1')}{(r_3' - r_1')^3}$$\n",
    "\n",
    "$$\\frac{dv_2'}{dt'} = \\frac{4\\pi^2 (r_2' - r_1')}{(r_2' - r_1')^3} -\\frac{4\\pi^2 m_3' (r_3' - r_1')}{(r_3' - r_1')^3}$$\n",
    "\n",
    "$$\\frac{dv_3'}{dt'} = \\frac{4\\pi^2 (r_2' - r_1')}{(r_2' - r_1')^3} -\\frac{4\\pi^2 m_3' (r_3' - r_1')}{(r_3' - r_1')^3}$$\n",
    "\n"
   ],
   "metadata": {
    "collapsed": false
   },
   "id": "4771f5e6d86eecd0"
  },
  {
   "cell_type": "markdown",
   "source": [],
   "metadata": {
    "collapsed": false
   },
   "id": "738d35323e9608a7"
  },
  {
   "cell_type": "code",
   "execution_count": null,
   "id": "initial_id",
   "metadata": {
    "collapsed": true
   },
   "outputs": [],
   "source": []
  }
 ],
 "metadata": {
  "kernelspec": {
   "display_name": "Python 3",
   "language": "python",
   "name": "python3"
  },
  "language_info": {
   "codemirror_mode": {
    "name": "ipython",
    "version": 2
   },
   "file_extension": ".py",
   "mimetype": "text/x-python",
   "name": "python",
   "nbconvert_exporter": "python",
   "pygments_lexer": "ipython2",
   "version": "2.7.6"
  }
 },
 "nbformat": 4,
 "nbformat_minor": 5
}
