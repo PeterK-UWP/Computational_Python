{
 "cells": [
  {
   "cell_type": "markdown",
   "source": [
    "projectile motion: \n",
    "$$\\frac{d^2x}{dt^2} = 0$$\n",
    "$$\\frac{d^2y}{dt} = -g$$"
   ],
   "metadata": {
    "collapsed": false
   },
   "id": "bcdd4478194885ba"
  },
  {
   "cell_type": "markdown",
   "source": [
    "$$\\frac{dv_x}{dt} = 0$$\n",
    "$$\\frac{dx}{dt} = v_x$$\n",
    "\n",
    "$$\\frac{dv_y}{dt} = -g$$\n",
    "$$\\frac{dy}{dt} = v_y$$\n",
    "\n",
    "$$xi_0 = (v_0*cos(\\theta), v_0*sin(\\theta), 0, 0)$$\n",
    "\n",
    "pick units so that the computer doesn't need to compute much\n",
    "\n",
    "1.) what is the scale of the problem? numbers should be close to ~1\n",
    "$x = \\gamma * x'$\n",
    "the constants hold the scale: g and the initial conditions $v_0$\n",
    "\n",
    "time scale = $\\frac{v0}/{g}$\n",
    "x = v_ot = v_0^2/g\n",
    "\n",
    "$$v_x = v_0v_x'$$\n",
    "$$t = \\tau t'$$\n",
    "\n",
    "$$\\frac{dv_x}{dt} = 0 = \\frac{v_0}{\\tau}\\frac{dv_x'}{dt'}$$\n",
    "$$\\frac{v_0}{\\tau}\\frac{dv_x'}{dt'}$$\n"
   ],
   "metadata": {
    "collapsed": false
   },
   "id": "e4e6897319c477c5"
  },
  {
   "cell_type": "code",
   "execution_count": null,
   "outputs": [],
   "source": [],
   "metadata": {
    "collapsed": false,
    "ExecuteTime": {
     "end_time": "2023-10-02T13:35:30.851057800Z",
     "start_time": "2023-10-02T13:35:30.775835900Z"
    }
   },
   "id": "2782ce6b7595cc9a"
  }
 ],
 "metadata": {
  "kernelspec": {
   "display_name": "Python 3",
   "language": "python",
   "name": "python3"
  },
  "language_info": {
   "codemirror_mode": {
    "name": "ipython",
    "version": 2
   },
   "file_extension": ".py",
   "mimetype": "text/x-python",
   "name": "python",
   "nbconvert_exporter": "python",
   "pygments_lexer": "ipython2",
   "version": "2.7.6"
  }
 },
 "nbformat": 4,
 "nbformat_minor": 5
}
